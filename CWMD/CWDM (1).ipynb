{
 "cells": [
  {
   "cell_type": "code",
   "execution_count": 2,
   "id": "33da2c10-be8e-45bc-8094-5e61735d7a61",
   "metadata": {},
   "outputs": [
    {
     "name": "stdout",
     "output_type": "stream",
     "text": [
      "  Plot_Name  Stage  Quality                                           Sentence\n",
      "0  walk dog      1      1.0              This is a line chart with error bars.\n",
      "1  walk dog      1      1.0                     The chart title is 'Walk dog'.\n",
      "2  walk dog      1      1.0              The y-axis represents 'Mean anxiety'.\n",
      "3  walk dog      1      1.0  The x-axis indicates conditions such as 'Basel...\n",
      "4  walk dog      1      1.0  The chart compares mean anxiety levels with an...\n"
     ]
    }
   ],
   "source": [
    "import pandas as pd\n",
    "\n",
    "df = pd.read_csv(\"data_stories_one_shot.csv\")  # No full path needed\n",
    "print(df.head())\n"
   ]
  },
  {
   "cell_type": "code",
   "execution_count": 3,
   "id": "65a44216-7c9c-41ad-9660-c7ee98ec867f",
   "metadata": {},
   "outputs": [
    {
     "name": "stdout",
     "output_type": "stream",
     "text": [
      "📊 5-Fold Cross-Validation Accuracy:\n",
      "Logistic Regression: 0.6846\n",
      "SVM: 0.8385\n",
      "Naive Bayes: 0.7308\n",
      "Random Forest: 0.6769\n",
      "\n",
      "🔁 Leave-One-Plot-Out Accuracy (Logistic Regression): 0.6796\n"
     ]
    }
   ],
   "source": [
    "import pandas as pd\n",
    "from sklearn.model_selection import StratifiedKFold\n",
    "from sklearn.feature_extraction.text import TfidfVectorizer\n",
    "from sklearn.pipeline import Pipeline\n",
    "from sklearn.linear_model import LogisticRegression\n",
    "from sklearn.svm import SVC\n",
    "from sklearn.naive_bayes import MultinomialNB\n",
    "from sklearn.ensemble import RandomForestClassifier\n",
    "from sklearn.preprocessing import LabelEncoder\n",
    "from sklearn.metrics import accuracy_score\n",
    "import string\n",
    "\n",
    "# Step 1: Load data (no path needed since it's uploaded)\n",
    "df = pd.read_csv(\"data_stories_one_shot.csv\")\n",
    "\n",
    "# Step 2: Clean text (lowercase + remove punctuation)\n",
    "df['processed'] = df['Sentence'].apply(lambda x: x.lower().translate(str.maketrans('', '', string.punctuation)))\n",
    "\n",
    "# Step 3: Encode labels ('Show' = 1, 'Tell' = 0)\n",
    "df['label'] = df['Stage'].apply(lambda x: 'Show' if x == 1 else 'Tell')\n",
    "df['label_encoded'] = LabelEncoder().fit_transform(df['label'])\n",
    "\n",
    "# Step 4: Define ML models\n",
    "models = {\n",
    "    \"Logistic Regression\": LogisticRegression(max_iter=1000),\n",
    "    \"SVM\": SVC(kernel='linear'),\n",
    "    \"Naive Bayes\": MultinomialNB(),\n",
    "    \"Random Forest\": RandomForestClassifier()\n",
    "}\n",
    "\n",
    "# Step 5: 5-Fold Cross-Validation using TF-IDF\n",
    "results_cv = {}\n",
    "skf = StratifiedKFold(n_splits=5)\n",
    "\n",
    "for name, model in models.items():\n",
    "    pipeline = Pipeline([('tfidf', TfidfVectorizer()), ('clf', model)])\n",
    "    accuracies = []\n",
    "    for train_idx, test_idx in skf.split(df['processed'], df['label_encoded']):\n",
    "        X_train, X_test = df['processed'].iloc[train_idx], df['processed'].iloc[test_idx]\n",
    "        y_train, y_test = df['label_encoded'].iloc[train_idx], df['label_encoded'].iloc[test_idx]\n",
    "        \n",
    "        pipeline.fit(X_train, y_train)\n",
    "        y_pred = pipeline.predict(X_test)\n",
    "        accuracies.append(accuracy_score(y_test, y_pred))\n",
    "    \n",
    "    results_cv[name] = sum(accuracies) / len(accuracies)\n",
    "\n",
    "# Step 6: Leave-One-Plot-Out Cross-Validation using Logistic Regression\n",
    "scores_lopo = []\n",
    "unique_plots = df['Plot_Name'].unique()\n",
    "\n",
    "for plot in unique_plots:\n",
    "    train_data = df[df['Plot_Name'] != plot]\n",
    "    test_data = df[df['Plot_Name'] == plot]\n",
    "    \n",
    "    X_train, X_test = train_data['processed'], test_data['processed']\n",
    "    y_train, y_test = train_data['label_encoded'], test_data['label_encoded']\n",
    "    \n",
    "    pipeline_lr = Pipeline([('tfidf', TfidfVectorizer()), ('clf', LogisticRegression(max_iter=1000))])\n",
    "    pipeline_lr.fit(X_train, y_train)\n",
    "    y_pred = pipeline_lr.predict(X_test)\n",
    "    \n",
    "    scores_lopo.append(accuracy_score(y_test, y_pred))\n",
    "\n",
    "# Step 7: Print results\n",
    "print(\"📊 5-Fold Cross-Validation Accuracy:\")\n",
    "for model_name, acc in results_cv.items():\n",
    "    print(f\"{model_name}: {acc:.4f}\")\n",
    "\n",
    "print(f\"\\n🔁 Leave-One-Plot-Out Accuracy (Logistic Regression): {sum(scores_lopo) / len(scores_lopo):.4f}\")\n"
   ]
  },
  {
   "cell_type": "code",
   "execution_count": null,
   "id": "481324e8-545a-45ae-b116-ea77769f6282",
   "metadata": {},
   "outputs": [],
   "source": []
  }
 ],
 "metadata": {
  "kernelspec": {
   "display_name": "anaconda-panel-2023.05-py310",
   "language": "python",
   "name": "conda-env-anaconda-panel-2023.05-py310-py"
  },
  "language_info": {
   "codemirror_mode": {
    "name": "ipython",
    "version": 3
   },
   "file_extension": ".py",
   "mimetype": "text/x-python",
   "name": "python",
   "nbconvert_exporter": "python",
   "pygments_lexer": "ipython3",
   "version": "3.11.5"
  }
 },
 "nbformat": 4,
 "nbformat_minor": 5
}
